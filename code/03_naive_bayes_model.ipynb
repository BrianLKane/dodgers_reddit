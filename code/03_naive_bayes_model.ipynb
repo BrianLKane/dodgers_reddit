{
 "cells": [
  {
   "cell_type": "markdown",
   "metadata": {},
   "source": [
    "# Naive Bayes Modeling\n",
    "\n",
    "### Notebook Summary\n",
    "\n",
    "In this notebook I will use one of the vectorizers that I instantiated in the previous notebook to convert my text data into numeric data, and I will fit a Naive Bayes classification model on a training subset of the data. Then I will test the model against the remaining data to predict whether unseen posts were found on the baseball or Dodgers subreddit. I can then use the model's findings to make inferences about the Dodger fanbase."
   ]
  },
  {
   "cell_type": "code",
   "execution_count": 1,
   "metadata": {},
   "outputs": [],
   "source": [
    "import pandas as pd\n",
    "import json, re\n",
    "import nltk\n",
    "from nltk.corpus import stopwords\n",
    "from sklearn.model_selection import train_test_split\n",
    "import matplotlib.pyplot as plt\n",
    "import numpy as np\n",
    "from sklearn.metrics import accuracy_score, precision_score\n",
    "import pickle\n",
    "from sklearn.naive_bayes import MultinomialNB\n",
    "from sklearn.feature_extraction.text import CountVectorizer\n",
    "from sklearn.metrics import roc_auc_score\n",
    "\n",
    "%matplotlib inline"
   ]
  },
  {
   "cell_type": "markdown",
   "metadata": {},
   "source": [
    "## Vectorizing the Text\n",
    "\n",
    "First I'll load in the feature (`X`) and target (`y`) data from the pre-processing notebook."
   ]
  },
  {
   "cell_type": "code",
   "execution_count": 2,
   "metadata": {},
   "outputs": [],
   "source": [
    "with open('../data/X_data.pkl', 'rb') as f:\n",
    "    X = pickle.load(f)\n",
    "with open('../data/y_data.pkl', 'rb') as f:\n",
    "    y = pickle.load(f)"
   ]
  },
  {
   "cell_type": "markdown",
   "metadata": {},
   "source": [
    "Next I'll split `X` and `y` into training and test sets, with a `random_state` of 42 for reproducibility. And although the sets of baseball and Dodger posts are pretty closely balanced to each other, I'll go ahead and stratify for good measure."
   ]
  },
  {
   "cell_type": "code",
   "execution_count": 3,
   "metadata": {},
   "outputs": [],
   "source": [
    "X_train, X_test, y_train, y_test = train_test_split(X,\n",
    "                                                    y,\n",
    "                                                    test_size=0.25,\n",
    "                                                    random_state=42,\n",
    "                                                    stratify=y)"
   ]
  },
  {
   "cell_type": "markdown",
   "metadata": {},
   "source": [
    "I will load in the `CountVectorizer` that I instantiated in the previous notebook."
   ]
  },
  {
   "cell_type": "code",
   "execution_count": 5,
   "metadata": {},
   "outputs": [],
   "source": [
    "with open('../assets/cvec.pkl', 'rb') as f:\n",
    "    cvec = pickle.load(f)"
   ]
  },
  {
   "cell_type": "markdown",
   "metadata": {},
   "source": [
    "And now I will fit the vectorizer to my `X_train` data so it can learn the vocabulary used in those posts. It will then create a matrix of the most significant words used in the `X_train` posts, and I will create a dataframe from that matrix and store it in `X_train_cvec`."
   ]
  },
  {
   "cell_type": "code",
   "execution_count": 6,
   "metadata": {},
   "outputs": [
    {
     "name": "stderr",
     "output_type": "stream",
     "text": [
      "/Users/BK/anaconda3/lib/python3.7/site-packages/sklearn/feature_extraction/text.py:300: UserWarning: Your stop_words may be inconsistent with your preprocessing. Tokenizing the stop words generated tokens ['st'] not in stop_words.\n",
      "  'stop_words.' % sorted(inconsistent))\n"
     ]
    }
   ],
   "source": [
    "X_train_cvec = pd.DataFrame(cvec.fit_transform(X_train['text']).todense(),\n",
    "                            columns=cvec.get_feature_names())"
   ]
  },
  {
   "cell_type": "markdown",
   "metadata": {},
   "source": [
    "Now I will use the fitted vectorizer to create a matrix of the counts of `X_train`'s most significant words as they appear in `X_test`."
   ]
  },
  {
   "cell_type": "code",
   "execution_count": 7,
   "metadata": {},
   "outputs": [],
   "source": [
    "X_test_cvec = pd.DataFrame(cvec.transform(X_test['text']).todense(),\n",
    "                            columns=cvec.get_feature_names())"
   ]
  },
  {
   "cell_type": "markdown",
   "metadata": {},
   "source": [
    "I will display the first five rows of `X_train_cvec` to show that the text data from the Reddit posts now exists in a numeric form, so models can be fit to it."
   ]
  },
  {
   "cell_type": "code",
   "execution_count": 8,
   "metadata": {},
   "outputs": [
    {
     "data": {
      "text/html": [
       "<div>\n",
       "<style scoped>\n",
       "    .dataframe tbody tr th:only-of-type {\n",
       "        vertical-align: middle;\n",
       "    }\n",
       "\n",
       "    .dataframe tbody tr th {\n",
       "        vertical-align: top;\n",
       "    }\n",
       "\n",
       "    .dataframe thead th {\n",
       "        text-align: right;\n",
       "    }\n",
       "</style>\n",
       "<table border=\"1\" class=\"dataframe\">\n",
       "  <thead>\n",
       "    <tr style=\"text-align: right;\">\n",
       "      <th></th>\n",
       "      <th>ab</th>\n",
       "      <th>able</th>\n",
       "      <th>actually</th>\n",
       "      <th>age</th>\n",
       "      <th>agent</th>\n",
       "      <th>ago</th>\n",
       "      <th>al</th>\n",
       "      <th>alex</th>\n",
       "      <th>almost</th>\n",
       "      <th>already</th>\n",
       "      <th>...</th>\n",
       "      <th>worth</th>\n",
       "      <th>would</th>\n",
       "      <th>ws</th>\n",
       "      <th>www</th>\n",
       "      <th>year</th>\n",
       "      <th>years</th>\n",
       "      <th>yesterday</th>\n",
       "      <th>yet</th>\n",
       "      <th>young</th>\n",
       "      <th>youtube</th>\n",
       "    </tr>\n",
       "  </thead>\n",
       "  <tbody>\n",
       "    <tr>\n",
       "      <th>0</th>\n",
       "      <td>0</td>\n",
       "      <td>0</td>\n",
       "      <td>0</td>\n",
       "      <td>0</td>\n",
       "      <td>0</td>\n",
       "      <td>0</td>\n",
       "      <td>0</td>\n",
       "      <td>0</td>\n",
       "      <td>0</td>\n",
       "      <td>0</td>\n",
       "      <td>...</td>\n",
       "      <td>0</td>\n",
       "      <td>0</td>\n",
       "      <td>0</td>\n",
       "      <td>0</td>\n",
       "      <td>1</td>\n",
       "      <td>0</td>\n",
       "      <td>0</td>\n",
       "      <td>0</td>\n",
       "      <td>0</td>\n",
       "      <td>0</td>\n",
       "    </tr>\n",
       "    <tr>\n",
       "      <th>1</th>\n",
       "      <td>0</td>\n",
       "      <td>0</td>\n",
       "      <td>0</td>\n",
       "      <td>0</td>\n",
       "      <td>0</td>\n",
       "      <td>0</td>\n",
       "      <td>2</td>\n",
       "      <td>0</td>\n",
       "      <td>0</td>\n",
       "      <td>0</td>\n",
       "      <td>...</td>\n",
       "      <td>0</td>\n",
       "      <td>2</td>\n",
       "      <td>0</td>\n",
       "      <td>0</td>\n",
       "      <td>0</td>\n",
       "      <td>0</td>\n",
       "      <td>0</td>\n",
       "      <td>0</td>\n",
       "      <td>0</td>\n",
       "      <td>0</td>\n",
       "    </tr>\n",
       "    <tr>\n",
       "      <th>2</th>\n",
       "      <td>0</td>\n",
       "      <td>0</td>\n",
       "      <td>0</td>\n",
       "      <td>0</td>\n",
       "      <td>0</td>\n",
       "      <td>0</td>\n",
       "      <td>0</td>\n",
       "      <td>0</td>\n",
       "      <td>0</td>\n",
       "      <td>0</td>\n",
       "      <td>...</td>\n",
       "      <td>0</td>\n",
       "      <td>0</td>\n",
       "      <td>0</td>\n",
       "      <td>0</td>\n",
       "      <td>0</td>\n",
       "      <td>0</td>\n",
       "      <td>0</td>\n",
       "      <td>0</td>\n",
       "      <td>0</td>\n",
       "      <td>0</td>\n",
       "    </tr>\n",
       "    <tr>\n",
       "      <th>3</th>\n",
       "      <td>0</td>\n",
       "      <td>0</td>\n",
       "      <td>0</td>\n",
       "      <td>0</td>\n",
       "      <td>0</td>\n",
       "      <td>0</td>\n",
       "      <td>0</td>\n",
       "      <td>0</td>\n",
       "      <td>0</td>\n",
       "      <td>0</td>\n",
       "      <td>...</td>\n",
       "      <td>0</td>\n",
       "      <td>0</td>\n",
       "      <td>0</td>\n",
       "      <td>0</td>\n",
       "      <td>0</td>\n",
       "      <td>0</td>\n",
       "      <td>0</td>\n",
       "      <td>0</td>\n",
       "      <td>0</td>\n",
       "      <td>0</td>\n",
       "    </tr>\n",
       "    <tr>\n",
       "      <th>4</th>\n",
       "      <td>0</td>\n",
       "      <td>0</td>\n",
       "      <td>0</td>\n",
       "      <td>0</td>\n",
       "      <td>0</td>\n",
       "      <td>0</td>\n",
       "      <td>0</td>\n",
       "      <td>0</td>\n",
       "      <td>0</td>\n",
       "      <td>0</td>\n",
       "      <td>...</td>\n",
       "      <td>0</td>\n",
       "      <td>0</td>\n",
       "      <td>0</td>\n",
       "      <td>0</td>\n",
       "      <td>0</td>\n",
       "      <td>0</td>\n",
       "      <td>0</td>\n",
       "      <td>0</td>\n",
       "      <td>0</td>\n",
       "      <td>0</td>\n",
       "    </tr>\n",
       "  </tbody>\n",
       "</table>\n",
       "<p>5 rows × 500 columns</p>\n",
       "</div>"
      ],
      "text/plain": [
       "   ab  able  actually  age  agent  ago  al  alex  almost  already  ...  worth  \\\n",
       "0   0     0         0    0      0    0   0     0       0        0  ...      0   \n",
       "1   0     0         0    0      0    0   2     0       0        0  ...      0   \n",
       "2   0     0         0    0      0    0   0     0       0        0  ...      0   \n",
       "3   0     0         0    0      0    0   0     0       0        0  ...      0   \n",
       "4   0     0         0    0      0    0   0     0       0        0  ...      0   \n",
       "\n",
       "   would  ws  www  year  years  yesterday  yet  young  youtube  \n",
       "0      0   0    0     1      0          0    0      0        0  \n",
       "1      2   0    0     0      0          0    0      0        0  \n",
       "2      0   0    0     0      0          0    0      0        0  \n",
       "3      0   0    0     0      0          0    0      0        0  \n",
       "4      0   0    0     0      0          0    0      0        0  \n",
       "\n",
       "[5 rows x 500 columns]"
      ]
     },
     "execution_count": 8,
     "metadata": {},
     "output_type": "execute_result"
    }
   ],
   "source": [
    "X_train_cvec.head()"
   ]
  },
  {
   "cell_type": "markdown",
   "metadata": {},
   "source": [
    "## Modeling\n",
    "\n",
    "First I will instantiate a multinomial Naive Bayes classifier, then I will fit it to my now-numeric training data. This classifier is not terribly sophisticated. It will use the features selected by `CountVectorizer` and their counts in each post to calculate the probability of each word's occurrence as it correlates to that post being a member of the positive or negative class (r/Dodgers or r/baseball, respectively)."
   ]
  },
  {
   "cell_type": "code",
   "execution_count": 9,
   "metadata": {},
   "outputs": [],
   "source": [
    "nb = MultinomialNB()\n",
    "nb.fit(X_train_cvec, y_train);"
   ]
  },
  {
   "cell_type": "markdown",
   "metadata": {},
   "source": [
    "The model fits very quickly and it is not computationally intensive. But let's see how well it performs."
   ]
  },
  {
   "cell_type": "code",
   "execution_count": 10,
   "metadata": {},
   "outputs": [
    {
     "name": "stdout",
     "output_type": "stream",
     "text": [
      "Naive Bayes Train Score :  0.6956492089470813\n",
      "Naive Bayes Test Score  :  0.6899867034877775\n"
     ]
    }
   ],
   "source": [
    "print(f'Naive Bayes Train Score :  {nb.score(X_train_cvec, y_train)}')\n",
    "print(f'Naive Bayes Test Score  :  {nb.score(X_test_cvec, y_test)}')"
   ]
  },
  {
   "cell_type": "markdown",
   "metadata": {},
   "source": [
    "An accuracy score of around 70% is not very good. But because for my purposes there isn't a real downside to misclassifying one post as another, and because the classes are more or less balanced, accuracy really is the most reasonable score with which to judge the model's strength.\n",
    "\n",
    "However, before moving on to fit a stronger model, I want to take a look at the predicted probabilities from the Naive Bayes model to see if I can salvage any useful information from it. I'll start by using the model to make predictions on `X_test_cvec` and storing those predictions in a new dataframe `pred_df` alongside the true values of `y_test`."
   ]
  },
  {
   "cell_type": "code",
   "execution_count": 11,
   "metadata": {},
   "outputs": [],
   "source": [
    "pred_proba = [i[1] for i in nb.predict_proba(X_test_cvec)]\n",
    "\n",
    "pred_df = pd.DataFrame({'true_values': y_test,\n",
    "                        'pred_probs':pred_proba})"
   ]
  },
  {
   "cell_type": "markdown",
   "metadata": {},
   "source": [
    "Next I'll plot the distribution of the predicted probabilities on a histogram."
   ]
  },
  {
   "cell_type": "code",
   "execution_count": 12,
   "metadata": {},
   "outputs": [
    {
     "data": {
      "image/png": "[encoded data removed]",
      "text/plain": [
       "<Figure size 1440x720 with 1 Axes>"
      ]
     },
     "metadata": {
      "needs_background": "light"
     },
     "output_type": "display_data"
    }
   ],
   "source": [
    "plt.figure(figsize = (20,10))\n",
    "\n",
    "plt.hist(pred_df[pred_df['true_values'] == 1]['pred_probs'],\n",
    "         bins=25,\n",
    "         color='b',\n",
    "         alpha = 0.6,\n",
    "         label='Dodgers Post')\n",
    "plt.hist(pred_df[pred_df['true_values'] == 0]['pred_probs'],\n",
    "         bins=25,\n",
    "         color='orange',\n",
    "         alpha = 0.6,\n",
    "         label='Baseball Post')\n",
    "\n",
    "plt.vlines(x=0.5,\n",
    "           ymin = 0,\n",
    "           ymax = 2000,\n",
    "           color='r',\n",
    "           linestyle = '--')\n",
    "\n",
    "plt.title('Distribution of Probability', fontsize=40)\n",
    "plt.ylabel('Frequency', fontsize=30)\n",
    "plt.xlabel('Predicted Probability That Post Comes From r/Dodgers', fontsize=30)\n",
    "\n",
    "plt.legend(fontsize=20);\n",
    "\n",
    "plt.savefig('../viz_exports/NB_ProbDist.png');"
   ]
  },
  {
   "cell_type": "markdown",
   "metadata": {},
   "source": [
    "In the plot above, the blue represents a true instance of a post from r/Dodgers. The orange represents a true instance of a post from r/baseball. Anything plotted to the right of the red midline represents a prediction of r/Dodgers and anything plotted to the left indicates a prediction of r/baseball. So an orange bar on the right half of the plot is a false positive and a blue bar on the left half of the plot is a false negative. Although the accuracy of this model is not very good, from the plot above it does appear that it is doing a good job of not generating false positives by misclassifying r/baseball posts as being from r/Dodgers. I'll calculate the model's precision to verify that."
   ]
  },
  {
   "cell_type": "code",
   "execution_count": 13,
   "metadata": {},
   "outputs": [
    {
     "data": {
      "text/plain": [
       "0.7937415881561238"
      ]
     },
     "execution_count": 13,
     "metadata": {},
     "output_type": "execute_result"
    }
   ],
   "source": [
    "preds = nb.predict(X_test_cvec)\n",
    "precision_score(y_test, preds)"
   ]
  },
  {
   "cell_type": "markdown",
   "metadata": {},
   "source": [
    "This means that 80% of the posts that model predicted as being from r/Dodgers were correct. Given that, I'll check to see what words the model found to be most predictive of a Dodgers classification."
   ]
  },
  {
   "cell_type": "code",
   "execution_count": 14,
   "metadata": {},
   "outputs": [
    {
     "name": "stdout",
     "output_type": "stream",
     "text": [
      "['exceed' 'rbaseball' 'roast' 'university' 'guide' 'stove' 'fame'\n",
      " 'expectations' 'hall' 'age']\n"
     ]
    }
   ],
   "source": [
    "# Adapted from Stack Overflow user piman314\n",
    "dodgers_prob_sorted = nb.feature_log_prob_[1, :].argsort()\n",
    "print(np.take(cvec.get_feature_names(), dodgers_prob_sorted[:10]))"
   ]
  },
  {
   "cell_type": "markdown",
   "metadata": {},
   "source": [
    "From that list of words, it would seem that the r/Dodgers community discusses the hall of fame more often than the general r/baseball community. I will make note of that in my summary report, but otherwise I should try to find a stronger classifying model than this one. I'll begin that process in the next notebook."
   ]
  }
 ],
 "metadata": {
  "kernelspec": {
   "display_name": "Python 3",
   "language": "python",
   "name": "python3"
  },
  "language_info": {
   "codemirror_mode": {
    "name": "ipython",
    "version": 3
   },
   "file_extension": ".py",
   "mimetype": "text/x-python",
   "name": "python",
   "nbconvert_exporter": "python",
   "pygments_lexer": "ipython3",
   "version": "3.7.1"
  }
 },
 "nbformat": 4,
 "nbformat_minor": 2
}
